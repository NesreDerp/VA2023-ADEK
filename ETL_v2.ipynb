{
 "cells": [
  {
   "cell_type": "code",
   "execution_count": 1,
   "id": "a063e970",
   "metadata": {},
   "outputs": [],
   "source": [
    "import pandas as pd\n",
    "import numpy as np\n",
    "import warnings\n",
    "warnings.simplefilter(action='ignore', category=FutureWarning)"
   ]
  },
  {
   "cell_type": "code",
   "execution_count": 2,
   "id": "5e9b42b0",
   "metadata": {},
   "outputs": [],
   "source": [
    "# Importing main dataset, which has been cleaned\n",
    "dfIndiaSUF = pd.read_csv('Indian_Start_Up_Data_v1.csv', skipinitialspace = True)"
   ]
  },
  {
   "cell_type": "code",
   "execution_count": 3,
   "id": "da1c09dc",
   "metadata": {},
   "outputs": [],
   "source": [
    "# Deleting first incorrect index column\n",
    "dfIndiaSUF = dfIndiaSUF.iloc[: , 1:]"
   ]
  },
  {
   "cell_type": "markdown",
   "id": "2b4a7ce1",
   "metadata": {},
   "source": [
    "# Merging main dataset with GDP data"
   ]
  },
  {
   "cell_type": "code",
   "execution_count": 4,
   "id": "e0f253c4",
   "metadata": {},
   "outputs": [],
   "source": [
    "# Importing GDP data file\n",
    "dfIndiaGDP = pd.read_csv('Indian GDP Data.csv', skipinitialspace = True)"
   ]
  },
  {
   "cell_type": "code",
   "execution_count": 5,
   "id": "aba22c2b",
   "metadata": {},
   "outputs": [],
   "source": [
    "# Removing columns outside range of 2015-2021, as years are not in main dataset\n",
    "dfIndiaGDP = dfIndiaGDP[dfIndiaGDP['Year'] > 2014]\n",
    "dfIndiaGDP = dfIndiaGDP[dfIndiaGDP['Year'] < 2022]"
   ]
  },
  {
   "cell_type": "code",
   "execution_count": 6,
   "id": "c274dead",
   "metadata": {},
   "outputs": [
    {
     "data": {
      "text/html": [
       "<div>\n",
       "<style scoped>\n",
       "    .dataframe tbody tr th:only-of-type {\n",
       "        vertical-align: middle;\n",
       "    }\n",
       "\n",
       "    .dataframe tbody tr th {\n",
       "        vertical-align: top;\n",
       "    }\n",
       "\n",
       "    .dataframe thead th {\n",
       "        text-align: right;\n",
       "    }\n",
       "</style>\n",
       "<table border=\"1\" class=\"dataframe\">\n",
       "  <thead>\n",
       "    <tr style=\"text-align: right;\">\n",
       "      <th></th>\n",
       "      <th>Startup Name</th>\n",
       "      <th>Founder(s)</th>\n",
       "      <th>Funding Year</th>\n",
       "      <th>Funding Month</th>\n",
       "      <th>Funding Day</th>\n",
       "      <th>Founding Date</th>\n",
       "      <th>Industry/Vertical</th>\n",
       "      <th>Funding Date</th>\n",
       "      <th>Sub-Vertical</th>\n",
       "      <th>City</th>\n",
       "      <th>Investor(s)</th>\n",
       "      <th>Investment Amount (USD)</th>\n",
       "      <th>Investment Type</th>\n",
       "      <th>Remarks</th>\n",
       "    </tr>\n",
       "  </thead>\n",
       "  <tbody>\n",
       "    <tr>\n",
       "      <th>0</th>\n",
       "      <td>Lenskart</td>\n",
       "      <td>NaN</td>\n",
       "      <td>2015</td>\n",
       "      <td>1</td>\n",
       "      <td>2</td>\n",
       "      <td>NaN</td>\n",
       "      <td>Other</td>\n",
       "      <td>02/01/2015</td>\n",
       "      <td>NaN</td>\n",
       "      <td>NaN</td>\n",
       "      <td>Tpg Growth, Tr Capital, Idg Ventures</td>\n",
       "      <td>2150000</td>\n",
       "      <td>Other</td>\n",
       "      <td>NaN</td>\n",
       "    </tr>\n",
       "    <tr>\n",
       "      <th>1</th>\n",
       "      <td>Violetstreet</td>\n",
       "      <td>NaN</td>\n",
       "      <td>2015</td>\n",
       "      <td>1</td>\n",
       "      <td>2</td>\n",
       "      <td>NaN</td>\n",
       "      <td>Other</td>\n",
       "      <td>02/01/2015</td>\n",
       "      <td>NaN</td>\n",
       "      <td>NaN</td>\n",
       "      <td>Venkat Vallabhneni, Sudhakar Reddy, Srinivasa ...</td>\n",
       "      <td>315000</td>\n",
       "      <td>Early stage</td>\n",
       "      <td>NaN</td>\n",
       "    </tr>\n",
       "  </tbody>\n",
       "</table>\n",
       "</div>"
      ],
      "text/plain": [
       "   Startup Name Founder(s)  Funding Year  Funding Month  Funding Day  \\\n",
       "0      Lenskart        NaN          2015              1            2   \n",
       "1  Violetstreet        NaN          2015              1            2   \n",
       "\n",
       "   Founding Date Industry/Vertical Funding Date Sub-Vertical City  \\\n",
       "0            NaN             Other   02/01/2015          NaN  NaN   \n",
       "1            NaN             Other   02/01/2015          NaN  NaN   \n",
       "\n",
       "                                         Investor(s)  Investment Amount (USD)  \\\n",
       "0               Tpg Growth, Tr Capital, Idg Ventures                  2150000   \n",
       "1  Venkat Vallabhneni, Sudhakar Reddy, Srinivasa ...                   315000   \n",
       "\n",
       "  Investment Type Remarks  \n",
       "0           Other     NaN  \n",
       "1     Early stage     NaN  "
      ]
     },
     "execution_count": 6,
     "metadata": {},
     "output_type": "execute_result"
    }
   ],
   "source": [
    "dfIndiaSUF.head(2)"
   ]
  },
  {
   "cell_type": "code",
   "execution_count": 7,
   "id": "1e71501a",
   "metadata": {},
   "outputs": [
    {
     "data": {
      "text/html": [
       "<div>\n",
       "<style scoped>\n",
       "    .dataframe tbody tr th:only-of-type {\n",
       "        vertical-align: middle;\n",
       "    }\n",
       "\n",
       "    .dataframe tbody tr th {\n",
       "        vertical-align: top;\n",
       "    }\n",
       "\n",
       "    .dataframe thead th {\n",
       "        text-align: right;\n",
       "    }\n",
       "</style>\n",
       "<table border=\"1\" class=\"dataframe\">\n",
       "  <thead>\n",
       "    <tr style=\"text-align: right;\">\n",
       "      <th></th>\n",
       "      <th>Year</th>\n",
       "      <th>GDP_In_Billion_USD</th>\n",
       "      <th>Per_Capita_in_USD</th>\n",
       "      <th>Percentage_Growth</th>\n",
       "    </tr>\n",
       "  </thead>\n",
       "  <tbody>\n",
       "    <tr>\n",
       "      <th>0</th>\n",
       "      <td>2021</td>\n",
       "      <td>3173.40</td>\n",
       "      <td>2277</td>\n",
       "      <td>8.95</td>\n",
       "    </tr>\n",
       "    <tr>\n",
       "      <th>1</th>\n",
       "      <td>2020</td>\n",
       "      <td>2667.69</td>\n",
       "      <td>1933</td>\n",
       "      <td>-6.60</td>\n",
       "    </tr>\n",
       "  </tbody>\n",
       "</table>\n",
       "</div>"
      ],
      "text/plain": [
       "   Year  GDP_In_Billion_USD  Per_Capita_in_USD  Percentage_Growth \n",
       "0  2021             3173.40               2277                8.95\n",
       "1  2020             2667.69               1933               -6.60"
      ]
     },
     "execution_count": 7,
     "metadata": {},
     "output_type": "execute_result"
    }
   ],
   "source": [
    "# Data preview\n",
    "dfIndiaGDP.head(2)"
   ]
  },
  {
   "cell_type": "code",
   "execution_count": 8,
   "id": "b0ec0c9f",
   "metadata": {},
   "outputs": [],
   "source": [
    "# Renaming index columns, to match main data set\n",
    "dfIndiaGDP = dfIndiaGDP.rename(columns={'Year':'Funding Year', 'Percentage_Growth ':'Yearly GDP Percentage Growth'})"
   ]
  },
  {
   "cell_type": "code",
   "execution_count": 9,
   "id": "20cfd44c",
   "metadata": {},
   "outputs": [],
   "source": [
    "# Left joining the two datasets on 'Founding Year' on main dataset\n",
    "dfIndiaSUF = pd.merge(dfIndiaSUF, dfIndiaGDP[['Funding Year', 'Yearly GDP Percentage Growth']], how='left', on='Funding Year')"
   ]
  },
  {
   "cell_type": "markdown",
   "id": "76a59fa1",
   "metadata": {},
   "source": [
    "# Merging main dataset with Unicorn data"
   ]
  },
  {
   "cell_type": "code",
   "execution_count": 10,
   "id": "3ea72481",
   "metadata": {},
   "outputs": [],
   "source": [
    "# Importing Unicorn data file\n",
    "dfIndiaU = pd.read_csv('Indian Unicorn Data.csv', skipinitialspace = True)"
   ]
  },
  {
   "cell_type": "code",
   "execution_count": 11,
   "id": "f268ff74",
   "metadata": {},
   "outputs": [],
   "source": [
    "# Deleting first incorrect index column\n",
    "dfIndiaU = dfIndiaU.iloc[: , 1:]"
   ]
  },
  {
   "cell_type": "code",
   "execution_count": 12,
   "id": "34c2321c",
   "metadata": {},
   "outputs": [
    {
     "data": {
      "text/html": [
       "<div>\n",
       "<style scoped>\n",
       "    .dataframe tbody tr th:only-of-type {\n",
       "        vertical-align: middle;\n",
       "    }\n",
       "\n",
       "    .dataframe tbody tr th {\n",
       "        vertical-align: top;\n",
       "    }\n",
       "\n",
       "    .dataframe thead th {\n",
       "        text-align: right;\n",
       "    }\n",
       "</style>\n",
       "<table border=\"1\" class=\"dataframe\">\n",
       "  <thead>\n",
       "    <tr style=\"text-align: right;\">\n",
       "      <th></th>\n",
       "      <th>Company</th>\n",
       "      <th>Sector</th>\n",
       "      <th>Entry Valuation^^ ($B)</th>\n",
       "      <th>Valuation ($B)</th>\n",
       "      <th>Entry</th>\n",
       "      <th>Location</th>\n",
       "      <th>Select Investors</th>\n",
       "    </tr>\n",
       "  </thead>\n",
       "  <tbody>\n",
       "    <tr>\n",
       "      <th>0</th>\n",
       "      <td>InMobi</td>\n",
       "      <td>Adtech - Mobile Ads</td>\n",
       "      <td>1.0</td>\n",
       "      <td>1.0</td>\n",
       "      <td>Sep/2011</td>\n",
       "      <td>Bangalore/Singapore</td>\n",
       "      <td>KPCB, Sherpalo Ventures, SoftBank</td>\n",
       "    </tr>\n",
       "    <tr>\n",
       "      <th>1</th>\n",
       "      <td>Flipkart^</td>\n",
       "      <td>E-Commerce</td>\n",
       "      <td>1.0</td>\n",
       "      <td>37.6</td>\n",
       "      <td>Feb/2012</td>\n",
       "      <td>Bangalore/Singapore</td>\n",
       "      <td>Accel, Tiger Global, Naspers, SoftBank, Tencent</td>\n",
       "    </tr>\n",
       "  </tbody>\n",
       "</table>\n",
       "</div>"
      ],
      "text/plain": [
       "     Company               Sector  Entry Valuation^^ ($B)  Valuation ($B)  \\\n",
       "0     InMobi  Adtech - Mobile Ads                     1.0             1.0   \n",
       "1  Flipkart^           E-Commerce                     1.0            37.6   \n",
       "\n",
       "      Entry             Location  \\\n",
       "0  Sep/2011  Bangalore/Singapore   \n",
       "1  Feb/2012  Bangalore/Singapore   \n",
       "\n",
       "                                  Select Investors  \n",
       "0                KPCB, Sherpalo Ventures, SoftBank  \n",
       "1  Accel, Tiger Global, Naspers, SoftBank, Tencent  "
      ]
     },
     "execution_count": 12,
     "metadata": {},
     "output_type": "execute_result"
    }
   ],
   "source": [
    "# Data preview\n",
    "dfIndiaU.head(2)"
   ]
  },
  {
   "cell_type": "code",
   "execution_count": 13,
   "id": "afd4bdaf",
   "metadata": {},
   "outputs": [],
   "source": [
    "# Renaming index columns, to match main data set\n",
    "dfIndiaU = dfIndiaU.rename(columns={'Company':'Startup Name', 'Valuation ($B)':'Valuation (B USD)', 'Entry': 'Funding Date*'})"
   ]
  },
  {
   "cell_type": "code",
   "execution_count": 14,
   "id": "ad250acc",
   "metadata": {},
   "outputs": [],
   "source": [
    "# Adding Unicorn column\n",
    "dfIndiaU.insert(0, 'Unicorn', 'Yes')"
   ]
  },
  {
   "cell_type": "code",
   "execution_count": 15,
   "id": "38d070d9",
   "metadata": {},
   "outputs": [],
   "source": [
    "# Left joining the two datasets on 'Startup Name' on main dataset\n",
    "dfIndiaSUF = pd.merge(dfIndiaSUF, dfIndiaU[['Startup Name', 'Unicorn', 'Valuation (B USD)', 'Funding Date*']], how='left', on='Startup Name')\n"
   ]
  },
  {
   "cell_type": "code",
   "execution_count": 18,
   "id": "667745d7",
   "metadata": {},
   "outputs": [],
   "source": [
    "# Chaning NaN value to 'No' in 'Unicorn' column\n",
    "dfIndiaSUF.loc[dfIndiaSUF['Unicorn'] != 'Yes', 'Unicorn'] = np.nan"
   ]
  },
  {
   "cell_type": "markdown",
   "id": "49f0765e",
   "metadata": {},
   "source": [
    "## Cleaning name gender dataset"
   ]
  },
  {
   "cell_type": "code",
   "execution_count": 19,
   "id": "00490959",
   "metadata": {},
   "outputs": [],
   "source": [
    "# Importing Name gender data file\n",
    "dfIndiaG = pd.read_csv('Indian Name Gender Data.csv', skipinitialspace = True, sep=';')"
   ]
  },
  {
   "cell_type": "code",
   "execution_count": 20,
   "id": "97c420ef",
   "metadata": {},
   "outputs": [
    {
     "data": {
      "text/html": [
       "<div>\n",
       "<style scoped>\n",
       "    .dataframe tbody tr th:only-of-type {\n",
       "        vertical-align: middle;\n",
       "    }\n",
       "\n",
       "    .dataframe tbody tr th {\n",
       "        vertical-align: top;\n",
       "    }\n",
       "\n",
       "    .dataframe thead th {\n",
       "        text-align: right;\n",
       "    }\n",
       "</style>\n",
       "<table border=\"1\" class=\"dataframe\">\n",
       "  <thead>\n",
       "    <tr style=\"text-align: right;\">\n",
       "      <th></th>\n",
       "      <th>Name</th>\n",
       "      <th>Target</th>\n",
       "    </tr>\n",
       "  </thead>\n",
       "  <tbody>\n",
       "    <tr>\n",
       "      <th>0</th>\n",
       "      <td>Yash</td>\n",
       "      <td>1</td>\n",
       "    </tr>\n",
       "    <tr>\n",
       "      <th>1</th>\n",
       "      <td>Prit</td>\n",
       "      <td>1</td>\n",
       "    </tr>\n",
       "  </tbody>\n",
       "</table>\n",
       "</div>"
      ],
      "text/plain": [
       "   Name  Target\n",
       "0  Yash       1\n",
       "1  Prit       1"
      ]
     },
     "execution_count": 20,
     "metadata": {},
     "output_type": "execute_result"
    }
   ],
   "source": [
    "# Data preview\n",
    "dfIndiaG.head(2)"
   ]
  },
  {
   "cell_type": "code",
   "execution_count": 21,
   "id": "c3482497",
   "metadata": {},
   "outputs": [],
   "source": [
    "# Renaming index columns, to match other data set\n",
    "dfIndiaG = dfIndiaG.rename(columns={'Name':'Founder First Name', 'Target':'Gender ID'})"
   ]
  },
  {
   "cell_type": "code",
   "execution_count": 22,
   "id": "968a6b7e",
   "metadata": {},
   "outputs": [],
   "source": [
    "# Adding gender column based on gender ID value\n",
    "dfIndiaG.insert(2, 'Founder Gender', np.where(dfIndiaG['Gender ID'] == 1, 'Male', 'Female'))"
   ]
  },
  {
   "cell_type": "markdown",
   "id": "2816ba0a",
   "metadata": {},
   "source": [
    "## Cleaning additional start-up dataset"
   ]
  },
  {
   "cell_type": "code",
   "execution_count": 23,
   "id": "d9fec99e",
   "metadata": {},
   "outputs": [],
   "source": [
    "# Importing additional start-up data file\n",
    "dfIndiaASUF = pd.read_csv('Indian Start-Up Additional Data.csv', skipinitialspace = True, sep=\";\")"
   ]
  },
  {
   "cell_type": "code",
   "execution_count": 24,
   "id": "97d1d134",
   "metadata": {},
   "outputs": [
    {
     "data": {
      "text/html": [
       "<div>\n",
       "<style scoped>\n",
       "    .dataframe tbody tr th:only-of-type {\n",
       "        vertical-align: middle;\n",
       "    }\n",
       "\n",
       "    .dataframe tbody tr th {\n",
       "        vertical-align: top;\n",
       "    }\n",
       "\n",
       "    .dataframe thead th {\n",
       "        text-align: right;\n",
       "    }\n",
       "</style>\n",
       "<table border=\"1\" class=\"dataframe\">\n",
       "  <thead>\n",
       "    <tr style=\"text-align: right;\">\n",
       "      <th></th>\n",
       "      <th>Company/Brand</th>\n",
       "      <th>Founded</th>\n",
       "      <th>Headquarters</th>\n",
       "      <th>Sector</th>\n",
       "      <th>What it does</th>\n",
       "      <th>Founder/s</th>\n",
       "      <th>Investor/s</th>\n",
       "      <th>Amount</th>\n",
       "      <th>Stage</th>\n",
       "      <th>Date</th>\n",
       "    </tr>\n",
       "  </thead>\n",
       "  <tbody>\n",
       "    <tr>\n",
       "      <th>0</th>\n",
       "      <td>CollegeDekho</td>\n",
       "      <td>2015.0</td>\n",
       "      <td>Gurgaon</td>\n",
       "      <td>E-learning</td>\n",
       "      <td>Collegedekho.com is Student‚Äôs Partner, Frien...</td>\n",
       "      <td>Ruchir Arora</td>\n",
       "      <td>Disrupt ADQ, QIC</td>\n",
       "      <td>$35,000,000</td>\n",
       "      <td>Series B</td>\n",
       "      <td>Dec/21</td>\n",
       "    </tr>\n",
       "    <tr>\n",
       "      <th>1</th>\n",
       "      <td>BOX8</td>\n",
       "      <td>2012.0</td>\n",
       "      <td>Mumbai</td>\n",
       "      <td>Food &amp; Beverages</td>\n",
       "      <td>India's Largest Desi Meals Brand</td>\n",
       "      <td>Anshul Gupta, Amit Raj</td>\n",
       "      <td>Tiger Global</td>\n",
       "      <td>$40,000,000</td>\n",
       "      <td>NaN</td>\n",
       "      <td>Dec/21</td>\n",
       "    </tr>\n",
       "  </tbody>\n",
       "</table>\n",
       "</div>"
      ],
      "text/plain": [
       "  Company/Brand  Founded Headquarters            Sector  \\\n",
       "0  CollegeDekho   2015.0      Gurgaon        E-learning   \n",
       "1          BOX8   2012.0       Mumbai  Food & Beverages   \n",
       "\n",
       "                                        What it does               Founder/s  \\\n",
       "0  Collegedekho.com is Student‚Äôs Partner, Frien...            Ruchir Arora   \n",
       "1                   India's Largest Desi Meals Brand  Anshul Gupta, Amit Raj   \n",
       "\n",
       "         Investor/s       Amount     Stage   Date   \n",
       "0  Disrupt ADQ, QIC  $35,000,000  Series B  Dec/21  \n",
       "1      Tiger Global  $40,000,000       NaN  Dec/21  "
      ]
     },
     "execution_count": 24,
     "metadata": {},
     "output_type": "execute_result"
    }
   ],
   "source": [
    "# Data preview\n",
    "dfIndiaASUF.head(2)"
   ]
  },
  {
   "cell_type": "code",
   "execution_count": 25,
   "id": "f7b328b3",
   "metadata": {},
   "outputs": [],
   "source": [
    "# Renaming index columns, to match other data set\n",
    "dfIndiaASUF = dfIndiaASUF.rename(columns={'Company/Brand':'Startup Name', 'Founder/s':'Founder Name'})"
   ]
  },
  {
   "cell_type": "code",
   "execution_count": 27,
   "id": "b34ac82a",
   "metadata": {},
   "outputs": [],
   "source": [
    "# Creating a new column from 'Founder Name' with only the first name\n",
    "dfIndiaASUF.insert(10, 'Founder First Name', dfIndiaASUF['Founder Name'].str.split(\" \").str[0])"
   ]
  },
  {
   "cell_type": "code",
   "execution_count": 28,
   "id": "364aab16",
   "metadata": {},
   "outputs": [],
   "source": [
    "dfIndiaASUF['Founder First Name'] = dfIndiaASUF['Founder First Name'].replace(',','',regex = True)"
   ]
  },
  {
   "cell_type": "markdown",
   "id": "a01235ff",
   "metadata": {},
   "source": [
    "# Merging additional start-up dataset with name gender data"
   ]
  },
  {
   "cell_type": "code",
   "execution_count": 29,
   "id": "5fb37d35",
   "metadata": {},
   "outputs": [],
   "source": [
    "# Left joining the two datasets on 'Founding First Name' on additional start-up dataset\n",
    "dfIndiaASUF = pd.merge(dfIndiaASUF, dfIndiaG[['Founder First Name', 'Founder Gender']], how='left', on='Founder First Name')"
   ]
  },
  {
   "cell_type": "code",
   "execution_count": 30,
   "id": "25b3d2c5",
   "metadata": {},
   "outputs": [
    {
     "data": {
      "text/plain": [
       "546"
      ]
     },
     "execution_count": 30,
     "metadata": {},
     "output_type": "execute_result"
    }
   ],
   "source": [
    "#### (418 are unique) 546 of 1366 rows are empty\n",
    "dfIndiaASUF['Founder Gender'].isnull().sum()"
   ]
  },
  {
   "cell_type": "code",
   "execution_count": 31,
   "id": "6630b806",
   "metadata": {},
   "outputs": [],
   "source": [
    "# Deleting 'Founder First Name' column\n",
    "dfIndiaASUF = dfIndiaASUF.drop(['Founder First Name'], axis=1)"
   ]
  },
  {
   "cell_type": "code",
   "execution_count": 32,
   "id": "3017182e",
   "metadata": {
    "scrolled": true
   },
   "outputs": [
    {
     "data": {
      "text/html": [
       "<div>\n",
       "<style scoped>\n",
       "    .dataframe tbody tr th:only-of-type {\n",
       "        vertical-align: middle;\n",
       "    }\n",
       "\n",
       "    .dataframe tbody tr th {\n",
       "        vertical-align: top;\n",
       "    }\n",
       "\n",
       "    .dataframe thead th {\n",
       "        text-align: right;\n",
       "    }\n",
       "</style>\n",
       "<table border=\"1\" class=\"dataframe\">\n",
       "  <thead>\n",
       "    <tr style=\"text-align: right;\">\n",
       "      <th></th>\n",
       "      <th>Startup Name</th>\n",
       "      <th>Founded</th>\n",
       "      <th>Headquarters</th>\n",
       "      <th>Sector</th>\n",
       "      <th>What it does</th>\n",
       "      <th>Founder Name</th>\n",
       "      <th>Investor/s</th>\n",
       "      <th>Amount</th>\n",
       "      <th>Stage</th>\n",
       "      <th>Date</th>\n",
       "      <th>Founder Gender</th>\n",
       "    </tr>\n",
       "  </thead>\n",
       "  <tbody>\n",
       "    <tr>\n",
       "      <th>0</th>\n",
       "      <td>CollegeDekho</td>\n",
       "      <td>2015.0</td>\n",
       "      <td>Gurgaon</td>\n",
       "      <td>E-learning</td>\n",
       "      <td>Collegedekho.com is Student‚Äôs Partner, Frien...</td>\n",
       "      <td>Ruchir Arora</td>\n",
       "      <td>Disrupt ADQ, QIC</td>\n",
       "      <td>$35,000,000</td>\n",
       "      <td>Series B</td>\n",
       "      <td>Dec/21</td>\n",
       "      <td>NaN</td>\n",
       "    </tr>\n",
       "    <tr>\n",
       "      <th>1</th>\n",
       "      <td>BOX8</td>\n",
       "      <td>2012.0</td>\n",
       "      <td>Mumbai</td>\n",
       "      <td>Food &amp; Beverages</td>\n",
       "      <td>India's Largest Desi Meals Brand</td>\n",
       "      <td>Anshul Gupta, Amit Raj</td>\n",
       "      <td>Tiger Global</td>\n",
       "      <td>$40,000,000</td>\n",
       "      <td>NaN</td>\n",
       "      <td>Dec/21</td>\n",
       "      <td>Male</td>\n",
       "    </tr>\n",
       "  </tbody>\n",
       "</table>\n",
       "</div>"
      ],
      "text/plain": [
       "   Startup Name  Founded Headquarters            Sector  \\\n",
       "0  CollegeDekho   2015.0      Gurgaon        E-learning   \n",
       "1          BOX8   2012.0       Mumbai  Food & Beverages   \n",
       "\n",
       "                                        What it does            Founder Name  \\\n",
       "0  Collegedekho.com is Student‚Äôs Partner, Frien...            Ruchir Arora   \n",
       "1                   India's Largest Desi Meals Brand  Anshul Gupta, Amit Raj   \n",
       "\n",
       "         Investor/s       Amount     Stage   Date  Founder Gender  \n",
       "0  Disrupt ADQ, QIC  $35,000,000  Series B  Dec/21            NaN  \n",
       "1      Tiger Global  $40,000,000       NaN  Dec/21           Male  "
      ]
     },
     "execution_count": 32,
     "metadata": {},
     "output_type": "execute_result"
    }
   ],
   "source": [
    "dfIndiaASUF.head(2)"
   ]
  },
  {
   "cell_type": "markdown",
   "id": "faa8daec",
   "metadata": {},
   "source": [
    "# Merging main dataset with additional start-up and name gender dataset"
   ]
  },
  {
   "cell_type": "code",
   "execution_count": 33,
   "id": "3fded17e",
   "metadata": {},
   "outputs": [
    {
     "data": {
      "text/html": [
       "<div>\n",
       "<style scoped>\n",
       "    .dataframe tbody tr th:only-of-type {\n",
       "        vertical-align: middle;\n",
       "    }\n",
       "\n",
       "    .dataframe tbody tr th {\n",
       "        vertical-align: top;\n",
       "    }\n",
       "\n",
       "    .dataframe thead th {\n",
       "        text-align: right;\n",
       "    }\n",
       "</style>\n",
       "<table border=\"1\" class=\"dataframe\">\n",
       "  <thead>\n",
       "    <tr style=\"text-align: right;\">\n",
       "      <th></th>\n",
       "      <th>Startup Name</th>\n",
       "      <th>Founded</th>\n",
       "      <th>Headquarters</th>\n",
       "      <th>Sector</th>\n",
       "      <th>What it does</th>\n",
       "      <th>Founder Name</th>\n",
       "      <th>Investor/s</th>\n",
       "      <th>Amount</th>\n",
       "      <th>Stage</th>\n",
       "      <th>Date</th>\n",
       "      <th>Founder Gender</th>\n",
       "    </tr>\n",
       "  </thead>\n",
       "  <tbody>\n",
       "    <tr>\n",
       "      <th>0</th>\n",
       "      <td>CollegeDekho</td>\n",
       "      <td>2015.0</td>\n",
       "      <td>Gurgaon</td>\n",
       "      <td>E-learning</td>\n",
       "      <td>Collegedekho.com is Student‚Äôs Partner, Frien...</td>\n",
       "      <td>Ruchir Arora</td>\n",
       "      <td>Disrupt ADQ, QIC</td>\n",
       "      <td>$35,000,000</td>\n",
       "      <td>Series B</td>\n",
       "      <td>Dec/21</td>\n",
       "      <td>NaN</td>\n",
       "    </tr>\n",
       "    <tr>\n",
       "      <th>1</th>\n",
       "      <td>BOX8</td>\n",
       "      <td>2012.0</td>\n",
       "      <td>Mumbai</td>\n",
       "      <td>Food &amp; Beverages</td>\n",
       "      <td>India's Largest Desi Meals Brand</td>\n",
       "      <td>Anshul Gupta, Amit Raj</td>\n",
       "      <td>Tiger Global</td>\n",
       "      <td>$40,000,000</td>\n",
       "      <td>NaN</td>\n",
       "      <td>Dec/21</td>\n",
       "      <td>Male</td>\n",
       "    </tr>\n",
       "  </tbody>\n",
       "</table>\n",
       "</div>"
      ],
      "text/plain": [
       "   Startup Name  Founded Headquarters            Sector  \\\n",
       "0  CollegeDekho   2015.0      Gurgaon        E-learning   \n",
       "1          BOX8   2012.0       Mumbai  Food & Beverages   \n",
       "\n",
       "                                        What it does            Founder Name  \\\n",
       "0  Collegedekho.com is Student‚Äôs Partner, Frien...            Ruchir Arora   \n",
       "1                   India's Largest Desi Meals Brand  Anshul Gupta, Amit Raj   \n",
       "\n",
       "         Investor/s       Amount     Stage   Date  Founder Gender  \n",
       "0  Disrupt ADQ, QIC  $35,000,000  Series B  Dec/21            NaN  \n",
       "1      Tiger Global  $40,000,000       NaN  Dec/21           Male  "
      ]
     },
     "execution_count": 33,
     "metadata": {},
     "output_type": "execute_result"
    }
   ],
   "source": [
    "dfIndiaASUF.head(2)"
   ]
  },
  {
   "cell_type": "code",
   "execution_count": 34,
   "id": "7df06ca4",
   "metadata": {},
   "outputs": [],
   "source": [
    "# Corrected one incorrect column\n",
    "dfIndiaASUF[dfIndiaASUF['Founded'].isnull() == True]\n",
    "dfIndiaASUF['Founded'] = dfIndiaASUF['Founded'].fillna(2021)"
   ]
  },
  {
   "cell_type": "code",
   "execution_count": 35,
   "id": "398e15b8",
   "metadata": {},
   "outputs": [],
   "source": [
    "# Changing column to integer data value\n",
    "dfIndiaASUF['Founded'] = dfIndiaASUF['Founded'].astype(int)"
   ]
  },
  {
   "cell_type": "code",
   "execution_count": 36,
   "id": "a71a93f5",
   "metadata": {},
   "outputs": [],
   "source": [
    "# Renaming index columns, to match main data set\n",
    "dfIndiaASUF = dfIndiaASUF.rename(columns={'Founded':'Founded Date**', 'Founder/s':'Founder Name'})"
   ]
  },
  {
   "cell_type": "code",
   "execution_count": 37,
   "id": "811a10c9",
   "metadata": {},
   "outputs": [],
   "source": [
    "dfIndiaASUF_FounderGender = dfIndiaASUF.pop('Founder Gender')\n",
    "dfIndiaASUF.insert(6, 'Founder Gender', dfIndiaASUF_FounderGender)"
   ]
  },
  {
   "cell_type": "code",
   "execution_count": 38,
   "id": "bcc4b804",
   "metadata": {},
   "outputs": [],
   "source": [
    "# Deleting row duplicates based on several columns\n",
    "dfIndiaASUF = dfIndiaASUF.drop_duplicates(subset=['Startup Name'])"
   ]
  },
  {
   "cell_type": "code",
   "execution_count": 41,
   "id": "c0af51ce",
   "metadata": {},
   "outputs": [],
   "source": [
    "# Left joining additional start-up dataset on 'Startup Name' on main dataset\n",
    "dfIndiaSUF = pd.merge(dfIndiaSUF, dfIndiaASUF[['Startup Name', 'Founder Name', 'Founder Gender', 'Founded Date**']], how='left', on='Startup Name')"
   ]
  },
  {
   "cell_type": "markdown",
   "id": "acebf159",
   "metadata": {},
   "source": [
    "### Final data cleaning"
   ]
  },
  {
   "cell_type": "code",
   "execution_count": 42,
   "id": "c3a1c08d",
   "metadata": {},
   "outputs": [],
   "source": [
    "# Deleting specific date columns\n",
    "dfIndiaSUF = dfIndiaSUF.drop(['Funding Year', 'Funding Month', 'Funding Day'], axis=1)"
   ]
  },
  {
   "cell_type": "code",
   "execution_count": 43,
   "id": "46f31e43",
   "metadata": {},
   "outputs": [],
   "source": [
    "# Moving columns, by assigning it, deleting it, and then adding it again\n",
    "dfIndiaSUF_FounderName = dfIndiaSUF.pop('Founder Name')\n",
    "dfIndiaSUF.insert(3, 'Founder Name', dfIndiaSUF_FounderName)\n",
    "\n",
    "dfIndiaSUF_FounderGender = dfIndiaSUF.pop('Founder Gender')\n",
    "dfIndiaSUF.insert(3, 'Founder Gender', dfIndiaSUF_FounderGender)\n",
    "\n",
    "dfIndiaSUF_Founders = dfIndiaSUF.pop('Founder(s)')\n",
    "dfIndiaSUF.insert(2, 'Founder(s)', dfIndiaSUF_Founders)\n",
    "\n",
    "dfIndiaSUF_FundingDate = dfIndiaSUF.pop('Funding Date')\n",
    "dfIndiaSUF.insert(9, 'Funding Date', dfIndiaSUF_FundingDate)\n",
    "\n",
    "dfIndiaSUF_InvestmentType = dfIndiaSUF.pop('Investment Type')\n",
    "dfIndiaSUF.insert(10, 'Investment Type', dfIndiaSUF_InvestmentType)"
   ]
  },
  {
   "cell_type": "code",
   "execution_count": 44,
   "id": "69a19cc9",
   "metadata": {},
   "outputs": [],
   "source": [
    "#### If 'Founding Date' is empty, then it replaces the value with 'Founding Date**' column with relevant data\n",
    "dfIndiaSUF['Founding Date'] = np.where(dfIndiaSUF['Founding Date'].isna() == True, dfIndiaSUF['Founded Date**'], dfIndiaSUF['Founding Date'])"
   ]
  },
  {
   "cell_type": "code",
   "execution_count": 45,
   "id": "6f1ad797",
   "metadata": {},
   "outputs": [],
   "source": [
    "# Deleting columns\n",
    "dfIndiaSUF = dfIndiaSUF.drop(['Remarks', 'Funding Date*', 'Founded Date**', 'Sub-Vertical', 'Founder Name'], axis=1)"
   ]
  },
  {
   "cell_type": "code",
   "execution_count": 46,
   "id": "257133a3",
   "metadata": {},
   "outputs": [],
   "source": [
    "# Renaming column\n",
    "dfIndiaSUF = dfIndiaSUF.rename(columns={'Yearly GDP Percentage Growth': 'Yearly GDP (% Growth)', 'Unicorn': 'Unicorn Company'})"
   ]
  },
  {
   "cell_type": "markdown",
   "id": "44733441",
   "metadata": {},
   "source": [
    "### Updated data set"
   ]
  },
  {
   "cell_type": "code",
   "execution_count": 57,
   "id": "2dbdb2d6",
   "metadata": {},
   "outputs": [
    {
     "data": {
      "text/html": [
       "<div>\n",
       "<style scoped>\n",
       "    .dataframe tbody tr th:only-of-type {\n",
       "        vertical-align: middle;\n",
       "    }\n",
       "\n",
       "    .dataframe tbody tr th {\n",
       "        vertical-align: top;\n",
       "    }\n",
       "\n",
       "    .dataframe thead th {\n",
       "        text-align: right;\n",
       "    }\n",
       "</style>\n",
       "<table border=\"1\" class=\"dataframe\">\n",
       "  <thead>\n",
       "    <tr style=\"text-align: right;\">\n",
       "      <th></th>\n",
       "      <th>Startup Name</th>\n",
       "      <th>Founding Date</th>\n",
       "      <th>Founder(s)</th>\n",
       "      <th>Founder Gender</th>\n",
       "      <th>Industry/Vertical</th>\n",
       "      <th>City</th>\n",
       "      <th>Investor(s)</th>\n",
       "      <th>Funding Date</th>\n",
       "      <th>Investment Type</th>\n",
       "      <th>Investment Amount (USD)</th>\n",
       "      <th>Yearly GDP (% Growth)</th>\n",
       "      <th>Unicorn Company</th>\n",
       "      <th>Valuation (B USD)</th>\n",
       "    </tr>\n",
       "  </thead>\n",
       "  <tbody>\n",
       "    <tr>\n",
       "      <th>0</th>\n",
       "      <td>Lenskart</td>\n",
       "      <td>2008.0</td>\n",
       "      <td>NaN</td>\n",
       "      <td>NaN</td>\n",
       "      <td>Other</td>\n",
       "      <td>NaN</td>\n",
       "      <td>Tpg Growth, Tr Capital, Idg Ventures</td>\n",
       "      <td>02/01/2015</td>\n",
       "      <td>Other</td>\n",
       "      <td>2150000</td>\n",
       "      <td>8.0</td>\n",
       "      <td>Yes</td>\n",
       "      <td>4.5</td>\n",
       "    </tr>\n",
       "    <tr>\n",
       "      <th>1</th>\n",
       "      <td>Violetstreet</td>\n",
       "      <td>NaN</td>\n",
       "      <td>NaN</td>\n",
       "      <td>NaN</td>\n",
       "      <td>Other</td>\n",
       "      <td>NaN</td>\n",
       "      <td>Venkat Vallabhneni, Sudhakar Reddy, Srinivasa ...</td>\n",
       "      <td>02/01/2015</td>\n",
       "      <td>Early stage</td>\n",
       "      <td>315000</td>\n",
       "      <td>8.0</td>\n",
       "      <td>NaN</td>\n",
       "      <td>NaN</td>\n",
       "    </tr>\n",
       "  </tbody>\n",
       "</table>\n",
       "</div>"
      ],
      "text/plain": [
       "   Startup Name  Founding Date Founder(s) Founder Gender Industry/Vertical  \\\n",
       "0      Lenskart         2008.0        NaN            NaN             Other   \n",
       "1  Violetstreet            NaN        NaN            NaN             Other   \n",
       "\n",
       "  City                                        Investor(s) Funding Date  \\\n",
       "0  NaN               Tpg Growth, Tr Capital, Idg Ventures   02/01/2015   \n",
       "1  NaN  Venkat Vallabhneni, Sudhakar Reddy, Srinivasa ...   02/01/2015   \n",
       "\n",
       "  Investment Type  Investment Amount (USD)  Yearly GDP (% Growth)  \\\n",
       "0           Other                  2150000                    8.0   \n",
       "1     Early stage                   315000                    8.0   \n",
       "\n",
       "  Unicorn Company  Valuation (B USD)  \n",
       "0             Yes                4.5  \n",
       "1             NaN                NaN  "
      ]
     },
     "execution_count": 57,
     "metadata": {},
     "output_type": "execute_result"
    }
   ],
   "source": [
    "dfIndiaSUF.head(2)"
   ]
  },
  {
   "cell_type": "code",
   "execution_count": 49,
   "id": "de0cc88f",
   "metadata": {},
   "outputs": [],
   "source": [
    "# Exporting dataframe data set as csv file\n",
    "dfIndiaSUF.to_csv('Indian_Start_Up_Data_v2.csv')"
   ]
  },
  {
   "cell_type": "code",
   "execution_count": 50,
   "id": "37ea86a3",
   "metadata": {},
   "outputs": [],
   "source": [
    "# Exporting dataframe data set as excel file\n",
    "dfIndiaSUF.to_excel('Indian_Start_Up_Data_v2.xlsx')  "
   ]
  },
  {
   "cell_type": "code",
   "execution_count": 51,
   "id": "31329104",
   "metadata": {},
   "outputs": [
    {
     "name": "stdout",
     "output_type": "stream",
     "text": [
      "<class 'pandas.core.frame.DataFrame'>\n",
      "Int64Index: 4697 entries, 0 to 4696\n",
      "Data columns (total 13 columns):\n",
      " #   Column                   Non-Null Count  Dtype  \n",
      "---  ------                   --------------  -----  \n",
      " 0   Startup Name             4697 non-null   object \n",
      " 1   Founding Date            1947 non-null   float64\n",
      " 2   Founder(s)               1898 non-null   object \n",
      " 3   Founder Gender           542 non-null    object \n",
      " 4   Industry/Vertical        4697 non-null   object \n",
      " 5   City                     4091 non-null   object \n",
      " 6   Investor(s)              4589 non-null   object \n",
      " 7   Funding Date             4697 non-null   object \n",
      " 8   Investment Type          3317 non-null   object \n",
      " 9   Investment Amount (USD)  4697 non-null   int64  \n",
      " 10  Yearly GDP (% Growth)    4697 non-null   float64\n",
      " 11  Unicorn Company          154 non-null    object \n",
      " 12  Valuation (B USD)        154 non-null    float64\n",
      "dtypes: float64(3), int64(1), object(9)\n",
      "memory usage: 513.7+ KB\n"
     ]
    }
   ],
   "source": [
    "dfIndiaSUF.info()"
   ]
  },
  {
   "cell_type": "code",
   "execution_count": 54,
   "id": "88aeb9ed",
   "metadata": {},
   "outputs": [
    {
     "data": {
      "text/plain": [
       "(4697, 13)"
      ]
     },
     "execution_count": 54,
     "metadata": {},
     "output_type": "execute_result"
    }
   ],
   "source": [
    "dfIndiaSUF.shape"
   ]
  },
  {
   "cell_type": "code",
   "execution_count": 58,
   "id": "58de7fbb",
   "metadata": {
    "scrolled": false
   },
   "outputs": [
    {
     "data": {
      "text/plain": [
       "Startup Name                  0\n",
       "Founding Date              2750\n",
       "Founder(s)                 2799\n",
       "Founder Gender             4155\n",
       "Industry/Vertical             0\n",
       "City                        606\n",
       "Investor(s)                 108\n",
       "Funding Date                  0\n",
       "Investment Type            1380\n",
       "Investment Amount (USD)       0\n",
       "Yearly GDP (% Growth)         0\n",
       "Unicorn Company            4543\n",
       "Valuation (B USD)          4543\n",
       "dtype: int64"
      ]
     },
     "execution_count": 58,
     "metadata": {},
     "output_type": "execute_result"
    }
   ],
   "source": [
    "dfIndiaSUF.isna().sum()"
   ]
  }
 ],
 "metadata": {
  "kernelspec": {
   "display_name": "Python 3 (ipykernel)",
   "language": "python",
   "name": "python3"
  },
  "language_info": {
   "codemirror_mode": {
    "name": "ipython",
    "version": 3
   },
   "file_extension": ".py",
   "mimetype": "text/x-python",
   "name": "python",
   "nbconvert_exporter": "python",
   "pygments_lexer": "ipython3",
   "version": "3.9.12"
  }
 },
 "nbformat": 4,
 "nbformat_minor": 5
}
